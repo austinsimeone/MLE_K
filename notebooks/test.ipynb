{
 "cells": [
  {
   "cell_type": "code",
   "execution_count": 4,
   "metadata": {
    "collapsed": true
   },
   "outputs": [],
   "source": [
    "import pandas as pd"
   ]
  },
  {
   "cell_type": "code",
   "execution_count": 5,
   "outputs": [],
   "source": [
    "df = pd.read_csv(\"../data/raw/score.csv\")\n",
    "\n",
    "df = df.fillna(0)"
   ],
   "metadata": {
    "collapsed": false
   }
  },
  {
   "cell_type": "code",
   "execution_count": 6,
   "outputs": [
    {
     "data": {
      "text/plain": "         x1         x2        x3        x4          x5           x6         x7\n0  1.503407  15.165184    Monday  0.848177  112.883872   New Mexico     toyota\n1  5.048486  19.878850       Wed  1.384698  103.706167      Vermont  chevrolet\n2  2.037899  18.794880       Wed -0.106670   90.213082            0   mercedes\n3  4.769615  19.962946   Tuesday -0.225299   92.423319            0       ford\n4  6.946046  20.617530  Thursday -0.156121    0.000000  Mississippi          0",
      "text/html": "<div>\n<style scoped>\n    .dataframe tbody tr th:only-of-type {\n        vertical-align: middle;\n    }\n\n    .dataframe tbody tr th {\n        vertical-align: top;\n    }\n\n    .dataframe thead th {\n        text-align: right;\n    }\n</style>\n<table border=\"1\" class=\"dataframe\">\n  <thead>\n    <tr style=\"text-align: right;\">\n      <th></th>\n      <th>x1</th>\n      <th>x2</th>\n      <th>x3</th>\n      <th>x4</th>\n      <th>x5</th>\n      <th>x6</th>\n      <th>x7</th>\n    </tr>\n  </thead>\n  <tbody>\n    <tr>\n      <th>0</th>\n      <td>1.503407</td>\n      <td>15.165184</td>\n      <td>Monday</td>\n      <td>0.848177</td>\n      <td>112.883872</td>\n      <td>New Mexico</td>\n      <td>toyota</td>\n    </tr>\n    <tr>\n      <th>1</th>\n      <td>5.048486</td>\n      <td>19.878850</td>\n      <td>Wed</td>\n      <td>1.384698</td>\n      <td>103.706167</td>\n      <td>Vermont</td>\n      <td>chevrolet</td>\n    </tr>\n    <tr>\n      <th>2</th>\n      <td>2.037899</td>\n      <td>18.794880</td>\n      <td>Wed</td>\n      <td>-0.106670</td>\n      <td>90.213082</td>\n      <td>0</td>\n      <td>mercedes</td>\n    </tr>\n    <tr>\n      <th>3</th>\n      <td>4.769615</td>\n      <td>19.962946</td>\n      <td>Tuesday</td>\n      <td>-0.225299</td>\n      <td>92.423319</td>\n      <td>0</td>\n      <td>ford</td>\n    </tr>\n    <tr>\n      <th>4</th>\n      <td>6.946046</td>\n      <td>20.617530</td>\n      <td>Thursday</td>\n      <td>-0.156121</td>\n      <td>0.000000</td>\n      <td>Mississippi</td>\n      <td>0</td>\n    </tr>\n  </tbody>\n</table>\n</div>"
     },
     "execution_count": 6,
     "metadata": {},
     "output_type": "execute_result"
    }
   ],
   "source": [
    "df.head()"
   ],
   "metadata": {
    "collapsed": false
   }
  },
  {
   "cell_type": "code",
   "execution_count": 7,
   "outputs": [],
   "source": [
    "df_json = df.to_dict('records')"
   ],
   "metadata": {
    "collapsed": false
   }
  },
  {
   "cell_type": "code",
   "execution_count": 8,
   "outputs": [
    {
     "data": {
      "text/plain": "list"
     },
     "execution_count": 8,
     "metadata": {},
     "output_type": "execute_result"
    }
   ],
   "source": [
    "type(df_json)"
   ],
   "metadata": {
    "collapsed": false
   }
  },
  {
   "cell_type": "code",
   "execution_count": 9,
   "outputs": [
    {
     "data": {
      "text/plain": "['0',\n '1',\n '0',\n '1',\n '0',\n '1',\n '1',\n '0',\n '0',\n '0',\n '0',\n '1',\n '1',\n '1',\n '1',\n '0',\n '0',\n '1',\n '0',\n '1',\n '1',\n '0',\n '0',\n '0',\n '0',\n '0',\n '0',\n '0',\n '1',\n '0',\n '1',\n '0',\n '0',\n '1',\n '1',\n '0',\n '1',\n '0',\n '1',\n '0',\n '1',\n '0',\n '1',\n '1',\n '0',\n '1',\n '1',\n '1',\n '0',\n '0',\n '0',\n '1',\n '1',\n '0',\n '0',\n '0',\n '1',\n '0',\n '0',\n '1',\n '1',\n '1',\n '0',\n '0',\n '0',\n '0',\n '1',\n '0']"
     },
     "execution_count": 9,
     "metadata": {},
     "output_type": "execute_result"
    }
   ],
   "source": [
    "import requests\n",
    "\n",
    "response = requests.post(\n",
    "        \"http://127.0.0.1:8000/predict\",\n",
    "        json=df_json\n",
    "    )\n",
    "\n",
    "response.json()"
   ],
   "metadata": {
    "collapsed": false
   }
  },
  {
   "cell_type": "code",
   "execution_count": 19,
   "outputs": [],
   "source": [],
   "metadata": {
    "collapsed": false
   }
  }
 ],
 "metadata": {
  "kernelspec": {
   "display_name": "Python 3",
   "language": "python",
   "name": "python3"
  },
  "language_info": {
   "codemirror_mode": {
    "name": "ipython",
    "version": 2
   },
   "file_extension": ".py",
   "mimetype": "text/x-python",
   "name": "python",
   "nbconvert_exporter": "python",
   "pygments_lexer": "ipython2",
   "version": "2.7.6"
  }
 },
 "nbformat": 4,
 "nbformat_minor": 0
}
